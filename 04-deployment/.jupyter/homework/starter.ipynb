{
 "cells": [
  {
   "cell_type": "code",
   "execution_count": 1,
   "id": "2c51efaa",
   "metadata": {},
   "outputs": [
    {
     "name": "stdout",
     "output_type": "stream",
     "text": [
      "\u001b[33mWARNING: The directory '/home/jovyan/.cache/pip' or its parent directory is not owned or is not writable by the current user. The cache has been disabled. Check the permissions and owner of that directory. If executing pip with sudo, you should use sudo's -H flag.\u001b[0m\u001b[33m\n",
      "\u001b[0mscikit-learn==1.5.0\n",
      "Python 3.11.6\n",
      "\u001b[33mWARNING: The directory '/home/jovyan/.cache/pip' or its parent directory is not owned or is not writable by the current user. The cache has been disabled. Check the permissions and owner of that directory. If executing pip with sudo, you should use sudo's -H flag.\u001b[0m\u001b[33m\n",
      "\u001b[0mRequirement already satisfied: scikit-learn==1.5.0 in /opt/conda/lib/python3.11/site-packages (1.5.0)\n",
      "Requirement already satisfied: numpy>=1.19.5 in /opt/conda/lib/python3.11/site-packages (from scikit-learn==1.5.0) (1.24.4)\n",
      "Requirement already satisfied: scipy>=1.6.0 in /opt/conda/lib/python3.11/site-packages (from scikit-learn==1.5.0) (1.11.3)\n",
      "Requirement already satisfied: joblib>=1.2.0 in /opt/conda/lib/python3.11/site-packages (from scikit-learn==1.5.0) (1.3.2)\n",
      "Requirement already satisfied: threadpoolctl>=3.1.0 in /opt/conda/lib/python3.11/site-packages (from scikit-learn==1.5.0) (3.2.0)\n",
      "\u001b[33mWARNING: Running pip as the 'root' user can result in broken permissions and conflicting behaviour with the system package manager. It is recommended to use a virtual environment instead: https://pip.pypa.io/warnings/venv\u001b[0m\u001b[33m\n",
      "Hit:1 http://archive.ubuntu.com/ubuntu jammy InRelease\n",
      "Hit:2 http://security.ubuntu.com/ubuntu jammy-security InRelease\n",
      "Hit:3 http://archive.ubuntu.com/ubuntu jammy-updates InRelease\n",
      "Hit:4 http://archive.ubuntu.com/ubuntu jammy-backports InRelease\n",
      "Reading package lists... Done\n",
      "Reading package lists... Done\n",
      "Building dependency tree... Done\n",
      "Reading state information... Done\n",
      "The following additional packages will be installed:\n",
      "  apparmor bridge-utils containerd dmsetup dns-root-data dnsmasq-base iproute2\n",
      "  iptables libatm1 libbpf0 libcap2-bin libdevmapper1.02.1 libip4tc2 libip6tc2\n",
      "  libmnl0 libnetfilter-conntrack3 libnfnetlink0 libnftnl11 libpam-cap\n",
      "  libxtables12 netbase netcat netcat-openbsd pigz runc ubuntu-fan\n",
      "Suggested packages:\n",
      "  apparmor-profiles-extra apparmor-utils ifupdown aufs-tools btrfs-progs\n",
      "  cgroupfs-mount | cgroup-lite debootstrap docker-doc rinse zfs-fuse\n",
      "  | zfsutils iproute2-doc firewalld kmod nftables\n",
      "The following NEW packages will be installed:\n",
      "  apparmor bridge-utils containerd dmsetup dns-root-data dnsmasq-base\n",
      "  docker.io iproute2 iptables libatm1 libbpf0 libcap2-bin libdevmapper1.02.1\n",
      "  libip4tc2 libip6tc2 libmnl0 libnetfilter-conntrack3 libnfnetlink0 libnftnl11\n",
      "  libpam-cap libxtables12 netbase netcat netcat-openbsd pigz runc ubuntu-fan\n",
      "0 upgraded, 27 newly installed, 0 to remove and 112 not upgraded.\n",
      "Need to get 78.3 MB of archives.\n",
      "After this operation, 295 MB of additional disk space will be used.\n",
      "Get:1 http://archive.ubuntu.com/ubuntu jammy/universe amd64 pigz amd64 2.6-1 [63.6 kB]\n",
      "Get:2 http://archive.ubuntu.com/ubuntu jammy/main amd64 libdevmapper1.02.1 amd64 2:1.02.175-2.1ubuntu4 [139 kB]\n",
      "Get:3 http://archive.ubuntu.com/ubuntu jammy/main amd64 dmsetup amd64 2:1.02.175-2.1ubuntu4 [81.7 kB]\n",
      "Get:4 http://archive.ubuntu.com/ubuntu jammy-updates/main amd64 libbpf0 amd64 1:0.5.0-1ubuntu22.04.1 [140 kB]\n",
      "Get:5 http://archive.ubuntu.com/ubuntu jammy/main amd64 libmnl0 amd64 1.0.4-3build2 [13.2 kB]\n",
      "Get:6 http://archive.ubuntu.com/ubuntu jammy-updates/main amd64 libxtables12 amd64 1.8.7-1ubuntu5.2 [31.3 kB]\n",
      "Get:7 http://archive.ubuntu.com/ubuntu jammy-updates/main amd64 libcap2-bin amd64 1:2.44-1ubuntu0.22.04.1 [26.0 kB]\n",
      "Get:8 http://archive.ubuntu.com/ubuntu jammy/main amd64 iproute2 amd64 5.15.0-1ubuntu2 [1,070 kB]\n",
      "Get:9 http://archive.ubuntu.com/ubuntu jammy/main amd64 libatm1 amd64 1:2.5.1-4build2 [22.8 kB]\n",
      "Get:10 http://archive.ubuntu.com/ubuntu jammy-updates/main amd64 libip4tc2 amd64 1.8.7-1ubuntu5.2 [19.9 kB]\n",
      "Get:11 http://archive.ubuntu.com/ubuntu jammy-updates/main amd64 libpam-cap amd64 1:2.44-1ubuntu0.22.04.1 [7,928 B]\n",
      "Get:12 http://archive.ubuntu.com/ubuntu jammy/main amd64 netbase all 6.3 [12.9 kB]\n",
      "Get:13 http://archive.ubuntu.com/ubuntu jammy/main amd64 netcat-openbsd amd64 1.218-4ubuntu1 [39.4 kB]\n",
      "Get:14 http://archive.ubuntu.com/ubuntu jammy-updates/main amd64 apparmor amd64 3.0.4-2ubuntu2.4 [598 kB]\n",
      "Get:15 http://archive.ubuntu.com/ubuntu jammy-updates/main amd64 libip6tc2 amd64 1.8.7-1ubuntu5.2 [20.3 kB]\n",
      "Get:16 http://archive.ubuntu.com/ubuntu jammy/main amd64 libnfnetlink0 amd64 1.0.1-3build3 [14.6 kB]\n",
      "Get:17 http://archive.ubuntu.com/ubuntu jammy/main amd64 libnetfilter-conntrack3 amd64 1.0.9-1 [45.3 kB]\n",
      "Get:18 http://archive.ubuntu.com/ubuntu jammy/main amd64 libnftnl11 amd64 1.2.1-1build1 [65.5 kB]\n",
      "Get:19 http://archive.ubuntu.com/ubuntu jammy-updates/main amd64 iptables amd64 1.8.7-1ubuntu5.2 [455 kB]\n",
      "Get:20 http://archive.ubuntu.com/ubuntu jammy/main amd64 bridge-utils amd64 1.7-1ubuntu3 [34.4 kB]\n",
      "Get:21 http://archive.ubuntu.com/ubuntu jammy-updates/main amd64 runc amd64 1.1.12-0ubuntu2~22.04.1 [8,405 kB]\n",
      "Get:22 http://archive.ubuntu.com/ubuntu jammy-updates/main amd64 containerd amd64 1.7.12-0ubuntu2~22.04.1 [37.8 MB]\n",
      "Get:23 http://archive.ubuntu.com/ubuntu jammy-updates/main amd64 dns-root-data all 2023112702~ubuntu0.22.04.1 [5,136 B]\n",
      "Get:24 http://archive.ubuntu.com/ubuntu jammy-updates/main amd64 dnsmasq-base amd64 2.90-0ubuntu0.22.04.1 [374 kB]\n",
      "Get:25 http://archive.ubuntu.com/ubuntu jammy-updates/universe amd64 docker.io amd64 24.0.7-0ubuntu2~22.04.1 [28.8 MB]\n",
      "Get:26 http://archive.ubuntu.com/ubuntu jammy/universe amd64 netcat all 1.218-4ubuntu1 [2,044 B]\n",
      "Get:27 http://archive.ubuntu.com/ubuntu jammy/universe amd64 ubuntu-fan all 0.12.16 [35.2 kB]\n",
      "Fetched 78.3 MB in 3s (29.5 MB/s)       \n",
      "debconf: delaying package configuration, since apt-utils is not installed\n",
      "Selecting previously unselected package pigz.\n",
      "(Reading database ... 50087 files and directories currently installed.)\n",
      "Preparing to unpack .../00-pigz_2.6-1_amd64.deb ...\n",
      "Unpacking pigz (2.6-1) ...\n",
      "Selecting previously unselected package libdevmapper1.02.1:amd64.\n",
      "Preparing to unpack .../01-libdevmapper1.02.1_2%3a1.02.175-2.1ubuntu4_amd64.deb ...\n",
      "Unpacking libdevmapper1.02.1:amd64 (2:1.02.175-2.1ubuntu4) ...\n",
      "Selecting previously unselected package dmsetup.\n",
      "Preparing to unpack .../02-dmsetup_2%3a1.02.175-2.1ubuntu4_amd64.deb ...\n",
      "Unpacking dmsetup (2:1.02.175-2.1ubuntu4) ...\n",
      "Selecting previously unselected package libbpf0:amd64.\n",
      "Preparing to unpack .../03-libbpf0_1%3a0.5.0-1ubuntu22.04.1_amd64.deb ...\n",
      "Unpacking libbpf0:amd64 (1:0.5.0-1ubuntu22.04.1) ...\n",
      "Selecting previously unselected package libmnl0:amd64.\n",
      "Preparing to unpack .../04-libmnl0_1.0.4-3build2_amd64.deb ...\n",
      "Unpacking libmnl0:amd64 (1.0.4-3build2) ...\n",
      "Selecting previously unselected package libxtables12:amd64.\n",
      "Preparing to unpack .../05-libxtables12_1.8.7-1ubuntu5.2_amd64.deb ...\n",
      "Unpacking libxtables12:amd64 (1.8.7-1ubuntu5.2) ...\n",
      "Selecting previously unselected package libcap2-bin.\n",
      "Preparing to unpack .../06-libcap2-bin_1%3a2.44-1ubuntu0.22.04.1_amd64.deb ...\n",
      "Unpacking libcap2-bin (1:2.44-1ubuntu0.22.04.1) ...\n",
      "Selecting previously unselected package iproute2.\n",
      "Preparing to unpack .../07-iproute2_5.15.0-1ubuntu2_amd64.deb ...\n",
      "Unpacking iproute2 (5.15.0-1ubuntu2) ...\n",
      "Selecting previously unselected package libatm1:amd64.\n",
      "Preparing to unpack .../08-libatm1_1%3a2.5.1-4build2_amd64.deb ...\n",
      "Unpacking libatm1:amd64 (1:2.5.1-4build2) ...\n",
      "Selecting previously unselected package libip4tc2:amd64.\n",
      "Preparing to unpack .../09-libip4tc2_1.8.7-1ubuntu5.2_amd64.deb ...\n",
      "Unpacking libip4tc2:amd64 (1.8.7-1ubuntu5.2) ...\n",
      "Selecting previously unselected package libpam-cap:amd64.\n",
      "Preparing to unpack .../10-libpam-cap_1%3a2.44-1ubuntu0.22.04.1_amd64.deb ...\n",
      "Unpacking libpam-cap:amd64 (1:2.44-1ubuntu0.22.04.1) ...\n",
      "Selecting previously unselected package netbase.\n",
      "Preparing to unpack .../11-netbase_6.3_all.deb ...\n",
      "Unpacking netbase (6.3) ...\n",
      "Selecting previously unselected package netcat-openbsd.\n",
      "Preparing to unpack .../12-netcat-openbsd_1.218-4ubuntu1_amd64.deb ...\n",
      "Unpacking netcat-openbsd (1.218-4ubuntu1) ...\n",
      "Selecting previously unselected package apparmor.\n",
      "Preparing to unpack .../13-apparmor_3.0.4-2ubuntu2.4_amd64.deb ...\n",
      "Unpacking apparmor (3.0.4-2ubuntu2.4) ...\n",
      "Selecting previously unselected package libip6tc2:amd64.\n",
      "Preparing to unpack .../14-libip6tc2_1.8.7-1ubuntu5.2_amd64.deb ...\n",
      "Unpacking libip6tc2:amd64 (1.8.7-1ubuntu5.2) ...\n",
      "Selecting previously unselected package libnfnetlink0:amd64.\n",
      "Preparing to unpack .../15-libnfnetlink0_1.0.1-3build3_amd64.deb ...\n",
      "Unpacking libnfnetlink0:amd64 (1.0.1-3build3) ...\n",
      "Selecting previously unselected package libnetfilter-conntrack3:amd64.\n",
      "Preparing to unpack .../16-libnetfilter-conntrack3_1.0.9-1_amd64.deb ...\n",
      "Unpacking libnetfilter-conntrack3:amd64 (1.0.9-1) ...\n",
      "Selecting previously unselected package libnftnl11:amd64.\n",
      "Preparing to unpack .../17-libnftnl11_1.2.1-1build1_amd64.deb ...\n",
      "Unpacking libnftnl11:amd64 (1.2.1-1build1) ...\n",
      "Selecting previously unselected package iptables.\n",
      "Preparing to unpack .../18-iptables_1.8.7-1ubuntu5.2_amd64.deb ...\n",
      "Unpacking iptables (1.8.7-1ubuntu5.2) ...\n",
      "Selecting previously unselected package bridge-utils.\n",
      "Preparing to unpack .../19-bridge-utils_1.7-1ubuntu3_amd64.deb ...\n",
      "Unpacking bridge-utils (1.7-1ubuntu3) ...\n",
      "Selecting previously unselected package runc.\n",
      "Preparing to unpack .../20-runc_1.1.12-0ubuntu2~22.04.1_amd64.deb ...\n",
      "Unpacking runc (1.1.12-0ubuntu2~22.04.1) ...\n",
      "Selecting previously unselected package containerd.\n",
      "Preparing to unpack .../21-containerd_1.7.12-0ubuntu2~22.04.1_amd64.deb ...\n",
      "Unpacking containerd (1.7.12-0ubuntu2~22.04.1) ...\n",
      "Selecting previously unselected package dns-root-data.\n",
      "Preparing to unpack .../22-dns-root-data_2023112702~ubuntu0.22.04.1_all.deb ...\n",
      "Unpacking dns-root-data (2023112702~ubuntu0.22.04.1) ...\n",
      "Selecting previously unselected package dnsmasq-base.\n",
      "Preparing to unpack .../23-dnsmasq-base_2.90-0ubuntu0.22.04.1_amd64.deb ...\n",
      "Unpacking dnsmasq-base (2.90-0ubuntu0.22.04.1) ...\n",
      "Selecting previously unselected package docker.io.\n",
      "Preparing to unpack .../24-docker.io_24.0.7-0ubuntu2~22.04.1_amd64.deb ...\n",
      "Unpacking docker.io (24.0.7-0ubuntu2~22.04.1) ...\n",
      "Selecting previously unselected package netcat.\n",
      "Preparing to unpack .../25-netcat_1.218-4ubuntu1_all.deb ...\n",
      "Unpacking netcat (1.218-4ubuntu1) ...\n",
      "Selecting previously unselected package ubuntu-fan.\n",
      "Preparing to unpack .../26-ubuntu-fan_0.12.16_all.deb ...\n",
      "Unpacking ubuntu-fan (0.12.16) ...\n",
      "Setting up libip4tc2:amd64 (1.8.7-1ubuntu5.2) ...\n",
      "Setting up libip6tc2:amd64 (1.8.7-1ubuntu5.2) ...\n",
      "Setting up netcat-openbsd (1.218-4ubuntu1) ...\n",
      "update-alternatives: using /bin/nc.openbsd to provide /bin/nc (nc) in auto mode\n",
      "update-alternatives: warning: skip creation of /usr/share/man/man1/nc.1.gz because associated file /usr/share/man/man1/nc_openbsd.1.gz (of link group nc) doesn't exist\n",
      "update-alternatives: warning: skip creation of /usr/share/man/man1/netcat.1.gz because associated file /usr/share/man/man1/nc_openbsd.1.gz (of link group nc) doesn't exist\n",
      "Setting up netcat (1.218-4ubuntu1) ...\n",
      "Setting up libatm1:amd64 (1:2.5.1-4build2) ...\n",
      "Setting up runc (1.1.12-0ubuntu2~22.04.1) ...\n",
      "Setting up dns-root-data (2023112702~ubuntu0.22.04.1) ...\n",
      "Setting up libcap2-bin (1:2.44-1ubuntu0.22.04.1) ...\n",
      "Setting up apparmor (3.0.4-2ubuntu2.4) ...\n",
      "Setting up libmnl0:amd64 (1.0.4-3build2) ...\n",
      "Setting up libxtables12:amd64 (1.8.7-1ubuntu5.2) ...\n",
      "Setting up bridge-utils (1.7-1ubuntu3) ...\n",
      "Setting up libdevmapper1.02.1:amd64 (2:1.02.175-2.1ubuntu4) ...\n",
      "Setting up dmsetup (2:1.02.175-2.1ubuntu4) ...\n",
      "Setting up pigz (2.6-1) ...\n",
      "Setting up libnfnetlink0:amd64 (1.0.1-3build3) ...\n",
      "Setting up netbase (6.3) ...\n",
      "Setting up libbpf0:amd64 (1:0.5.0-1ubuntu22.04.1) ...\n",
      "Setting up containerd (1.7.12-0ubuntu2~22.04.1) ...\n",
      "Setting up libpam-cap:amd64 (1:2.44-1ubuntu0.22.04.1) ...\n",
      "Setting up iproute2 (5.15.0-1ubuntu2) ...\n",
      "Setting up libnftnl11:amd64 (1.2.1-1build1) ...\n",
      "Setting up libnetfilter-conntrack3:amd64 (1.0.9-1) ...\n",
      "Setting up iptables (1.8.7-1ubuntu5.2) ...\n",
      "update-alternatives: using /usr/sbin/iptables-legacy to provide /usr/sbin/iptables (iptables) in auto mode\n",
      "update-alternatives: using /usr/sbin/ip6tables-legacy to provide /usr/sbin/ip6tables (ip6tables) in auto mode\n",
      "update-alternatives: using /usr/sbin/iptables-nft to provide /usr/sbin/iptables (iptables) in auto mode\n",
      "update-alternatives: using /usr/sbin/ip6tables-nft to provide /usr/sbin/ip6tables (ip6tables) in auto mode\n",
      "update-alternatives: using /usr/sbin/arptables-nft to provide /usr/sbin/arptables (arptables) in auto mode\n",
      "update-alternatives: using /usr/sbin/ebtables-nft to provide /usr/sbin/ebtables (ebtables) in auto mode\n",
      "Setting up docker.io (24.0.7-0ubuntu2~22.04.1) ...\n",
      "Adding group `docker' (GID 102) ...\n",
      "Done.\n",
      "invoke-rc.d: unknown initscript, /etc/init.d/docker not found.\n",
      "invoke-rc.d: could not determine current runlevel\n",
      "Setting up dnsmasq-base (2.90-0ubuntu0.22.04.1) ...\n",
      "Setting up ubuntu-fan (0.12.16) ...\n",
      "invoke-rc.d: could not determine current runlevel\n",
      "invoke-rc.d: policy-rc.d denied execution of start.\n",
      "Processing triggers for libc-bin (2.35-0ubuntu3.4) ...\n"
     ]
    }
   ],
   "source": [
    "import os\n",
    "import pickle\n",
    "import pandas as pd\n",
    "import subprocess\n",
    "\n",
    "try:\n",
    "    # Check if script is running from ipython notebook\n",
    "    get_ipython()\n",
    "    MAKE_PACKAGE = True\n",
    "except NameError:\n",
    "    # Script is running from console\n",
    "    MAKE_PACKAGE = False\n",
    "\n",
    "if MAKE_PACKAGE:\n",
    "    !pip freeze | grep scikit-learn\n",
    "    !python -V\n",
    "    # sklearn version is prefered to be matching with the pickled model.bin file's sklearn version\n",
    "    !pip install -U scikit-learn==1.5.0\n",
    "    # Docker is needed to build image in Q6 answer.\n",
    "    # I have mounted my host's /var/run/docker.sock to the jupyter environment to access docker service itself\n",
    "    !apt-get update\n",
    "    !apt-get install -y docker.io"
   ]
  },
  {
   "cell_type": "markdown",
   "id": "62ad0dc3-90f8-4300-9a3d-d780458fe685",
   "metadata": {},
   "source": [
    "## Q5.1: Parametrize the script (Output is after Q4 Answer)"
   ]
  },
  {
   "cell_type": "code",
   "execution_count": 2,
   "id": "4feeeabd-3401-4d93-8134-79b13b83a6e3",
   "metadata": {},
   "outputs": [
    {
     "name": "stdout",
     "output_type": "stream",
     "text": [
      "Missing year and month input arguments. Using default values (year, month): (2023, 3)\n"
     ]
    }
   ],
   "source": [
    "try:\n",
    "    year, month = int(os.environ[\"YEAR\"]), int(os.environ[\"MONTH\"])\n",
    "except KeyError:\n",
    "    year, month = 2023, 3\n",
    "    print(f\"Missing year and month input arguments. Using default values (year, month): {year, month}\")"
   ]
  },
  {
   "cell_type": "markdown",
   "id": "83a0b3fa-1a11-4a6b-82c8-6f3390b8a73d",
   "metadata": {},
   "source": [
    "## Predict values"
   ]
  },
  {
   "cell_type": "code",
   "execution_count": 3,
   "id": "7836ccfd",
   "metadata": {},
   "outputs": [],
   "source": [
    "with open('model.bin', 'rb') as f_in:\n",
    "    dv, model = pickle.load(f_in)"
   ]
  },
  {
   "cell_type": "code",
   "execution_count": 4,
   "id": "8d039dbf",
   "metadata": {},
   "outputs": [],
   "source": [
    "categorical = ['PULocationID', 'DOLocationID']\n",
    "\n",
    "def read_data(filename):\n",
    "    print(f\"Loading parquet file: {DATA_URL}\")\n",
    "    df = pd.read_parquet(filename)\n",
    "    \n",
    "    df['duration'] = df.tpep_dropoff_datetime - df.tpep_pickup_datetime\n",
    "    df['duration'] = df.duration.dt.total_seconds() / 60\n",
    "\n",
    "    df = df[(df.duration >= 1) & (df.duration <= 60)].copy()\n",
    "\n",
    "    df[categorical] = df[categorical].fillna(-1).astype('int').astype('str')\n",
    "\n",
    "    return df"
   ]
  },
  {
   "cell_type": "code",
   "execution_count": 5,
   "id": "0e01bb72-49a4-47d7-a5cd-e0c22d94099f",
   "metadata": {},
   "outputs": [
    {
     "name": "stdout",
     "output_type": "stream",
     "text": [
      "Loading parquet file: https://d37ci6vzurychx.cloudfront.net/trip-data/yellow_tripdata_2023-03.parquet\n"
     ]
    }
   ],
   "source": [
    "# Download dataset\n",
    "DATA_URL = f'https://d37ci6vzurychx.cloudfront.net/trip-data/yellow_tripdata_{year:04d}-{month:02d}.parquet'\n",
    "df = read_data(DATA_URL)\n",
    "\n",
    "dicts = df[categorical].to_dict(orient='records')\n",
    "X_val = dv.transform(dicts)\n",
    "y_pred = model.predict(X_val)"
   ]
  },
  {
   "cell_type": "markdown",
   "id": "5775d8f8-240e-4fdb-babd-ae012a34722b",
   "metadata": {},
   "source": [
    "## Q1: What's the standard deviation of the predicted duration for this dataset?"
   ]
  },
  {
   "cell_type": "code",
   "execution_count": 6,
   "id": "bf532ae7-1897-428c-ba0c-875ccaf7d76c",
   "metadata": {},
   "outputs": [
    {
     "name": "stdout",
     "output_type": "stream",
     "text": [
      "Q1: What's the standard deviation of the predicted duration for this dataset?\n",
      "  Answer: 6.247488852238703\n"
     ]
    }
   ],
   "source": [
    "if MAKE_PACKAGE:\n",
    "    print(f\"Q1: What's the standard deviation of the predicted duration for this dataset?\\n  Answer: {y_pred.std()}\")  # 6.247"
   ]
  },
  {
   "cell_type": "markdown",
   "id": "8046bab4-b920-40aa-bc1a-b228c8b2ccbc",
   "metadata": {},
   "source": [
    "## Q2: Preparing the output"
   ]
  },
  {
   "cell_type": "code",
   "execution_count": 7,
   "id": "cc3ce78b",
   "metadata": {},
   "outputs": [
    {
     "name": "stdout",
     "output_type": "stream",
     "text": [
      "Q2: What's the size of the output file?\n",
      "  Answer: Size of scoring_data_2023-03.parquet is 64MB\n"
     ]
    }
   ],
   "source": [
    "if MAKE_PACKAGE:\n",
    "    output_file = f\"scoring_data_{year:04d}-{month:02d}.parquet\"\n",
    "    \n",
    "    df['ride_id'] = f'{year:04d}/{month:02d}_' + df.index.astype('str')\n",
    "    df_result = pd.DataFrame()\n",
    "    df_result['prediction'] = y_pred\n",
    "    df_result['ride_id'] = df['ride_id']\n",
    "    df_result.to_parquet(\n",
    "        output_file,\n",
    "        engine='pyarrow',\n",
    "        compression=None,\n",
    "        index=False\n",
    "    )\n",
    "    print(f\"Q2: What's the size of the output file?\\n  Answer: Size of {output_file} is {os.stat(output_file).st_size/(1024*1024):.0f}MB\")  # 64MB"
   ]
  },
  {
   "cell_type": "markdown",
   "id": "3c1a163a-5c33-43c8-8e86-46d8cf96e837",
   "metadata": {},
   "source": [
    "## Q3: Creating the scoring script"
   ]
  },
  {
   "cell_type": "code",
   "execution_count": 8,
   "id": "ee88e615",
   "metadata": {},
   "outputs": [
    {
     "name": "stdout",
     "output_type": "stream",
     "text": [
      "Q3: Which command you need to execute to turn the notebook into a script? Answer: 'jupyter nbconvert --to script starter.ipynb'\n",
      "[NbConvertApp] Converting notebook starter.ipynb to script\n",
      "[NbConvertApp] Writing 4348 bytes to starter.py\n"
     ]
    }
   ],
   "source": [
    "if MAKE_PACKAGE:\n",
    "    print(\"Q3: Which command you need to execute to turn the notebook into a script? Answer: 'jupyter nbconvert --to script starter.ipynb'\")\n",
    "    print(subprocess.getoutput(\"jupyter nbconvert --to script starter.ipynb\"))"
   ]
  },
  {
   "cell_type": "markdown",
   "id": "ebde968c-49c0-4fb4-8dee-9f638295243c",
   "metadata": {},
   "source": [
    "## Q4: Virtual environment"
   ]
  },
  {
   "cell_type": "code",
   "execution_count": 9,
   "id": "942f05ed",
   "metadata": {},
   "outputs": [
    {
     "name": "stdout",
     "output_type": "stream",
     "text": [
      "\u001b[33mWARNING: The directory '/home/jovyan/.cache/pip' or its parent directory is not owned or is not writable by the current user. The cache has been disabled. Check the permissions and owner of that directory. If executing pip with sudo, you should use sudo's -H flag.\u001b[0m\u001b[33m\n",
      "\u001b[0mCollecting pipenv\n",
      "  Downloading pipenv-2024.1.0-py3-none-any.whl.metadata (19 kB)\n",
      "Requirement already satisfied: certifi in /opt/conda/lib/python3.11/site-packages (from pipenv) (2023.7.22)\n",
      "Requirement already satisfied: packaging>=22 in /opt/conda/lib/python3.11/site-packages (from pipenv) (23.2)\n",
      "Requirement already satisfied: setuptools>=67 in /opt/conda/lib/python3.11/site-packages (from pipenv) (68.2.2)\n",
      "Collecting virtualenv>=20.24.2 (from pipenv)\n",
      "  Downloading virtualenv-20.26.6-py3-none-any.whl.metadata (4.5 kB)\n",
      "Collecting distlib<1,>=0.3.7 (from virtualenv>=20.24.2->pipenv)\n",
      "  Downloading distlib-0.3.8-py2.py3-none-any.whl.metadata (5.1 kB)\n",
      "Collecting filelock<4,>=3.12.2 (from virtualenv>=20.24.2->pipenv)\n",
      "  Downloading filelock-3.16.1-py3-none-any.whl.metadata (2.9 kB)\n",
      "Requirement already satisfied: platformdirs<5,>=3.9.1 in /opt/conda/lib/python3.11/site-packages (from virtualenv>=20.24.2->pipenv) (3.11.0)\n",
      "Downloading pipenv-2024.1.0-py3-none-any.whl (3.0 MB)\n",
      "\u001b[?25l   \u001b[90m━━━━━━━━━━━━━━━━━━━━━━━━━━━━━━━━━━━━━━━━\u001b[0m \u001b[32m0.0/3.0 MB\u001b[0m \u001b[31m?\u001b[0m eta \u001b[36m-:--:--\u001b[0m\n",
      "\u001b[2K   \u001b[91m━━━━━━━\u001b[0m\u001b[91m╸\u001b[0m\u001b[90m━━━━━━━━━━━━━━━━━━━━━━━━━━━━━━━━\u001b[0m \u001b[32m0.6/3.0 MB\u001b[0m \u001b[31m17.8 MB/s\u001b[0m eta \u001b[36m0:00:01\u001b[0m\n",
      "\u001b[2K   \u001b[91m━━━━━━━━━━━━━━━━━━━━━\u001b[0m\u001b[91m╸\u001b[0m\u001b[90m━━━━━━━━━━━━━━━━━━\u001b[0m \u001b[32m1.7/3.0 MB\u001b[0m \u001b[31m26.1 MB/s\u001b[0m eta \u001b[36m0:00:01\u001b[0m\n",
      "\u001b[2K   \u001b[91m━━━━━━━━━━━━━━━━━━━━━━━━━━━━━━━━━━━\u001b[0m\u001b[91m╸\u001b[0m\u001b[90m━━━━\u001b[0m \u001b[32m2.7/3.0 MB\u001b[0m \u001b[31m26.2 MB/s\u001b[0m eta \u001b[36m0:00:01\u001b[0m\n",
      "\u001b[2K   \u001b[90m━━━━━━━━━━━━━━━━━━━━━━━━━━━━━━━━━━━━━━━━\u001b[0m \u001b[32m3.0/3.0 MB\u001b[0m \u001b[31m28.8 MB/s\u001b[0m eta \u001b[36m0:00:00\u001b[0m\n",
      "\u001b[?25hDownloading virtualenv-20.26.6-py3-none-any.whl (6.0 MB)\n",
      "\u001b[?25l   \u001b[90m━━━━━━━━━━━━━━━━━━━━━━━━━━━━━━━━━━━━━━━━\u001b[0m \u001b[32m0.0/6.0 MB\u001b[0m \u001b[31m?\u001b[0m eta \u001b[36m-:--:--\u001b[0m\n",
      "\u001b[2K   \u001b[91m━━━━━━\u001b[0m\u001b[90m╺\u001b[0m\u001b[90m━━━━━━━━━━━━━━━━━━━━━━━━━━━━━━━━━\u001b[0m \u001b[32m1.0/6.0 MB\u001b[0m \u001b[31m30.6 MB/s\u001b[0m eta \u001b[36m0:00:01\u001b[0m\n",
      "\u001b[2K   \u001b[91m━━━━━━━━━━━━━━━\u001b[0m\u001b[90m╺\u001b[0m\u001b[90m━━━━━━━━━━━━━━━━━━━━━━━━\u001b[0m \u001b[32m2.3/6.0 MB\u001b[0m \u001b[31m35.1 MB/s\u001b[0m eta \u001b[36m0:00:01\u001b[0m\n",
      "\u001b[2K   \u001b[91m━━━━━━━━━━━━━━━━━━━━━━\u001b[0m\u001b[90m╺\u001b[0m\u001b[90m━━━━━━━━━━━━━━━━━\u001b[0m \u001b[32m3.3/6.0 MB\u001b[0m \u001b[31m32.9 MB/s\u001b[0m eta \u001b[36m0:00:01\u001b[0m\n",
      "\u001b[2K   \u001b[91m━━━━━━━━━━━━━━━━━━━━━━━━━━━━━━━\u001b[0m\u001b[90m╺\u001b[0m\u001b[90m━━━━━━━━\u001b[0m \u001b[32m4.7/6.0 MB\u001b[0m \u001b[31m33.9 MB/s\u001b[0m eta \u001b[36m0:00:01\u001b[0m\n",
      "\u001b[2K   \u001b[91m━━━━━━━━━━━━━━━━━━━━━━━━━━━━━━━━━━━━━━━\u001b[0m\u001b[90m╺\u001b[0m \u001b[32m5.9/6.0 MB\u001b[0m \u001b[31m34.0 MB/s\u001b[0m eta \u001b[36m0:00:01\u001b[0m\n",
      "\u001b[2K   \u001b[90m━━━━━━━━━━━━━━━━━━━━━━━━━━━━━━━━━━━━━━━━\u001b[0m \u001b[32m6.0/6.0 MB\u001b[0m \u001b[31m34.2 MB/s\u001b[0m eta \u001b[36m0:00:00\u001b[0m\n",
      "\u001b[?25hDownloading distlib-0.3.8-py2.py3-none-any.whl (468 kB)\n",
      "\u001b[?25l   \u001b[90m━━━━━━━━━━━━━━━━━━━━━━━━━━━━━━━━━━━━━━━━\u001b[0m \u001b[32m0.0/468.9 kB\u001b[0m \u001b[31m?\u001b[0m eta \u001b[36m-:--:--\u001b[0m\n",
      "\u001b[2K   \u001b[90m━━━━━━━━━━━━━━━━━━━━━━━━━━━━━━━━━━━━━━━━\u001b[0m \u001b[32m468.9/468.9 kB\u001b[0m \u001b[31m37.1 MB/s\u001b[0m eta \u001b[36m0:00:00\u001b[0m\n",
      "\u001b[?25hDownloading filelock-3.16.1-py3-none-any.whl (16 kB)\n",
      "Installing collected packages: distlib, filelock, virtualenv, pipenv\n",
      "Successfully installed distlib-0.3.8 filelock-3.16.1 pipenv-2024.1.0 virtualenv-20.26.6\n",
      "\u001b[33mWARNING: Running pip as the 'root' user can result in broken permissions and conflicting behaviour with the system package manager. It is recommended to use a virtual environment instead: https://pip.pypa.io/warnings/venv\u001b[0m\u001b[33m\n",
      "\u001b[0m\n",
      "\u001b[1mCreating a virtualenv for this project\u001b[0m\n",
      "Pipfile: \u001b[1;33m/home/jovyan/work/homework/\u001b[0m\u001b[1;33mPipfile\u001b[0m\n",
      "\u001b[1mUsing\u001b[0m \u001b[1;33m/usr/bin/\u001b[0m\u001b[1;33mpython3\u001b[0m\u001b[32m3.10.12\u001b[0m\u001b[32m \u001b[0m\u001b[1;32mto create virtualenv\u001b[0m\u001b[1;32m...\u001b[0m\n",
      "\u001b[?25l\u001b[32m⠋\u001b[0m Creating virtual environment...\n",
      "\u001b[2K\u001b[32m⠙\u001b[0m Creating virtual environment...\n",
      "\u001b[2K\u001b[32m⠹\u001b[0m Creating virtual environment...\n",
      "\u001b[2K\u001b[32m⠸\u001b[0m Creating virtual environment...\n",
      "\u001b[2K\u001b[32m⠼\u001b[0m Creating virtual environment...\n",
      "\u001b[2K\u001b[32m⠴\u001b[0m Creating virtual environment...\n",
      "\u001b[2K\u001b[32m⠦\u001b[0m Creating virtual environment...\n",
      "\u001b[2K\u001b[32m⠧\u001b[0m Creating virtual environment...\u001b[36mcreated virtual environment CPython3.\u001b[0m\u001b[1;36m10.12\u001b[0m\u001b[36m.final.\u001b[0m\u001b[1;36m0\u001b[0m\u001b[36m-\u001b[0m\u001b[1;36m64\u001b[0m\u001b[36m in 518ms\u001b[0m\n",
      "\u001b[36m  creator \u001b[0m\n",
      "\u001b[1;36mCPython3Posix\u001b[0m\u001b[1;36m(\u001b[0m\u001b[36mdest\u001b[0m\u001b[36m=\u001b[0m\u001b[36m/home/jovyan/.local/share/virtualenvs/\u001b[0m\u001b[36mhomework-SEXH1hRE\u001b[0m\u001b[36m, \u001b[0m\n",
      "\u001b[36mclear\u001b[0m\u001b[36m=\u001b[0m\u001b[3;36mFalse\u001b[0m\u001b[36m, \u001b[0m\u001b[36mno_vcs_ignore\u001b[0m\u001b[36m=\u001b[0m\u001b[3;36mFalse\u001b[0m\u001b[36m, \u001b[0m\u001b[36mglobal\u001b[0m\u001b[36m=\u001b[0m\u001b[3;36mFalse\u001b[0m\u001b[1;36m)\u001b[0m\n",
      "\u001b[36m  seeder \u001b[0m\u001b[1;36mFromAppData\u001b[0m\u001b[1;36m(\u001b[0m\u001b[36mdownload\u001b[0m\u001b[36m=\u001b[0m\u001b[3;36mFalse\u001b[0m\u001b[36m, \u001b[0m\u001b[36mpip\u001b[0m\u001b[36m=\u001b[0m\u001b[36mbundle\u001b[0m\u001b[36m, \u001b[0m\u001b[36msetuptools\u001b[0m\u001b[36m=\u001b[0m\u001b[36mbundle\u001b[0m\u001b[36m, \u001b[0m\n",
      "\u001b[36mwheel\u001b[0m\u001b[36m=\u001b[0m\u001b[36mbundle\u001b[0m\u001b[36m, \u001b[0m\u001b[36mvia\u001b[0m\u001b[36m=\u001b[0m\u001b[36mcopy\u001b[0m\u001b[36m, \u001b[0m\u001b[36mapp_data_dir\u001b[0m\u001b[36m=\u001b[0m\u001b[36m/home/jovyan/.local/share/\u001b[0m\u001b[36mvirtualenv\u001b[0m\u001b[1;36m)\u001b[0m\n",
      "\u001b[36m    added seed packages: \u001b[0m\u001b[36mpip\u001b[0m\u001b[36m==\u001b[0m\u001b[1;36m24.2\u001b[0m\u001b[36m, \u001b[0m\u001b[36msetuptools\u001b[0m\u001b[36m==\u001b[0m\u001b[1;36m75.1\u001b[0m\u001b[36m.\u001b[0m\u001b[1;36m0\u001b[0m\u001b[36m, \u001b[0m\u001b[36mwheel\u001b[0m\u001b[36m==\u001b[0m\u001b[1;36m0.44\u001b[0m\u001b[36m.\u001b[0m\u001b[1;36m0\u001b[0m\n",
      "\u001b[36m  activators \u001b[0m\n",
      "\u001b[36mBashActivator,CShellActivator,FishActivator,NushellActivator,PowerShellActivator\u001b[0m\n",
      "\u001b[36m,PythonActivator\u001b[0m\n",
      "\n",
      "✔ Successfully created virtual environment!\n",
      "\n",
      "\u001b[2K\u001b[32m⠧\u001b[0m Creating virtual environment...\n",
      "\u001b[?25h\n",
      "\u001b[1A\u001b[2K\u001b[32mVirtualenv location: \u001b[0m\u001b[32m/home/jovyan/.local/share/virtualenvs/\u001b[0m\u001b[32mhomework-SEXH1hRE\u001b[0m\n",
      "Warning: Your Pipfile requires python_version 3.11, but you are using 3.10.12 (/home/jovyan/.local/share/v/h/bin/python).\n",
      "  $ pipenv --rm and rebuilding the virtual environment may resolve the issue.\n",
      "  $ pipenv check will surely fail.\n",
      "\u001b[1;32mInstalling pandas...\u001b[0m\n",
      "\u001b[?25lResolving pandas...\n",
      "\u001b[32m⠋\u001b[0m Installing...\n",
      "\u001b[2K✔ Installation Succeeded\n",
      "\u001b[32m⠋\u001b[0m Installing pandas...\n",
      "\u001b[2K\u001b[32m⠋\u001b[0m Installing pandas...\n",
      "\u001b[?25h\n",
      "\u001b[1A\u001b[2K\u001b[1;32mInstalling scikit-learn==1.5.0...\u001b[0m\n",
      "\u001b[?25lResolving scikit-learn==1.5.0...\n",
      "\u001b[32m⠋\u001b[0m Installing...\n",
      "\u001b[2K✔ Installation Succeeded\n",
      "\u001b[32m⠋\u001b[0m Installing scikit-learn...\n",
      "\u001b[2K\u001b[32m⠋\u001b[0m Installing scikit-learn...\n",
      "\u001b[?25h\n",
      "\u001b[1A\u001b[2K\u001b[1;32mInstalling pyarrow...\u001b[0m\n",
      "\u001b[?25lResolving pyarrow...\n",
      "\u001b[32m⠋\u001b[0m Installing...\n",
      "\u001b[2K✔ Installation Succeeded\n",
      "\u001b[32m⠋\u001b[0m Installing pyarrow...\n",
      "\u001b[2K\u001b[32m⠋\u001b[0m Installing pyarrow...\n",
      "\u001b[?25h\n",
      "\u001b[1A\u001b[2KTo activate this project's virtualenv, run \u001b[33mpipenv shell\u001b[0m.\n",
      "Alternatively, run a command inside the virtualenv with \u001b[33mpipenv run\u001b[0m.\n",
      "\u001b[1mInstalling dependencies from Pipfile.lock (073780)...\u001b[0m\n"
     ]
    }
   ],
   "source": [
    "if MAKE_PACKAGE:\n",
    "    print(subprocess.getoutput(\"pip install pipenv\"))\n",
    "    print(subprocess.getoutput(\"python3 -m pipenv install pandas scikit-learn==1.5.0 pyarrow --python=3.10\"))"
   ]
  },
  {
   "cell_type": "code",
   "execution_count": 10,
   "id": "1f9b0ed9-86ec-4db6-8f46-dea510ded8ec",
   "metadata": {},
   "outputs": [
    {
     "name": "stdout",
     "output_type": "stream",
     "text": [
      "Q4: What's the first hash for the Scikit-Learn dependency?\n",
      "  Answer: sha256:057b991ac64b3e75c9c04b5f9395eaf19a6179244c089afdebaad98264bff37c\n"
     ]
    }
   ],
   "source": [
    "if MAKE_PACKAGE:\n",
    "    import json\n",
    "    with open(\"Pipfile.lock\", \"rb\") as f:\n",
    "        hash = json.load(f)[\"default\"][\"scikit-learn\"][\"hashes\"][0]\n",
    "        print(f\"Q4: What's the first hash for the Scikit-Learn dependency?\\n  Answer: {hash}\")  # sha256:057b991ac64b3e75c9c04b5f9395eaf19a6179244c089afdebaad98264bff37c"
   ]
  },
  {
   "cell_type": "markdown",
   "id": "f816f9c5-0b39-44da-836b-bcb2d20c4de6",
   "metadata": {},
   "source": [
    "## Q5.2 Parametrize the script (Answer)"
   ]
  },
  {
   "cell_type": "code",
   "execution_count": 11,
   "id": "b7632fa9-1ef9-4101-a91f-01b7c3de980e",
   "metadata": {},
   "outputs": [
    {
     "name": "stdout",
     "output_type": "stream",
     "text": [
      "Loading parquet file: https://d37ci6vzurychx.cloudfront.net/trip-data/yellow_tripdata_2023-04.parquet\n",
      "Q5: What's the mean predicted duration?\n",
      "  Answer: 14.292282936862449\n"
     ]
    }
   ],
   "source": [
    "if MAKE_PACKAGE:\n",
    "    print(subprocess.getoutput('YEAR=2023 MONTH=04 Q5=somevalue python3 starter.py'))\n",
    "if os.environ.get(\"Q5\", False):\n",
    "    print(f\"Q5: What's the mean predicted duration?\\n  Answer: {y_pred.mean()}\")  # 14.29"
   ]
  },
  {
   "cell_type": "markdown",
   "id": "2376618c-e588-4716-a579-52fa1d388ce5",
   "metadata": {},
   "source": [
    "## Q6: Docker container"
   ]
  },
  {
   "cell_type": "code",
   "execution_count": 12,
   "id": "1109a8f1",
   "metadata": {},
   "outputs": [
    {
     "name": "stdout",
     "output_type": "stream",
     "text": [
      "Error response from daemon: No such image: homework4:latest\n",
      "DEPRECATED: The legacy builder is deprecated and will be removed in a future release.\n",
      "            Install the buildx component to build images with BuildKit:\n",
      "            https://docs.docker.com/go/buildx/\n",
      "\n",
      "Sending build context to Docker daemon  67.34MB\n",
      "\n",
      "Step 1/5 : FROM agrigorev/zoomcamp-model:mlops-2024-3.10.13-slim\n",
      " ---> 13e5353db264\n",
      "Step 2/5 : COPY [ \"starter.py\", \"Pipfile\", \"Pipfile.lock\", \"./\" ]\n",
      " ---> 2bd124fb7196\n",
      "Step 3/5 : RUN pip install pipenv\n",
      " ---> Running in f4def3f10c1d\n",
      "Collecting pipenv\n",
      "  Downloading pipenv-2024.1.0-py3-none-any.whl (3.0 MB)\n",
      "     ━━━━━━━━━━━━━━━━━━━━━━━━━━━━━━━━━━━━━━━━ 3.0/3.0 MB 25.0 MB/s eta 0:00:00\n",
      "Collecting packaging>=22\n",
      "  Downloading packaging-24.1-py3-none-any.whl (53 kB)\n",
      "     ━━━━━━━━━━━━━━━━━━━━━━━━━━━━━━━━━━━━━━━━ 54.0/54.0 kB 4.9 MB/s eta 0:00:00\n",
      "Collecting virtualenv>=20.24.2\n",
      "  Downloading virtualenv-20.26.6-py3-none-any.whl (6.0 MB)\n",
      "     ━━━━━━━━━━━━━━━━━━━━━━━━━━━━━━━━━━━━━━━━ 6.0/6.0 MB 27.9 MB/s eta 0:00:00\n",
      "Collecting setuptools>=67\n",
      "  Downloading setuptools-75.1.0-py3-none-any.whl (1.2 MB)\n",
      "     ━━━━━━━━━━━━━━━━━━━━━━━━━━━━━━━━━━━━━━━━ 1.2/1.2 MB 31.9 MB/s eta 0:00:00\n",
      "Collecting certifi\n",
      "  Downloading certifi-2024.8.30-py3-none-any.whl (167 kB)\n",
      "     ━━━━━━━━━━━━━━━━━━━━━━━━━━━━━━━━━━━━━━ 167.3/167.3 kB 10.8 MB/s eta 0:00:00\n",
      "Collecting platformdirs<5,>=3.9.1\n",
      "  Downloading platformdirs-4.3.6-py3-none-any.whl (18 kB)\n",
      "Collecting distlib<1,>=0.3.7\n",
      "  Downloading distlib-0.3.8-py2.py3-none-any.whl (468 kB)\n",
      "     ━━━━━━━━━━━━━━━━━━━━━━━━━━━━━━━━━━━━━━ 468.9/468.9 kB 12.5 MB/s eta 0:00:00\n",
      "Collecting filelock<4,>=3.12.2\n",
      "  Downloading filelock-3.16.1-py3-none-any.whl (16 kB)\n",
      "Installing collected packages: distlib, setuptools, platformdirs, packaging, filelock, certifi, virtualenv, pipenv\n",
      "  Attempting uninstall: setuptools\n",
      "    Found existing installation: setuptools 65.5.1\n",
      "    Uninstalling setuptools-65.5.1:\n",
      "      Successfully uninstalled setuptools-65.5.1\n",
      "Successfully installed certifi-2024.8.30 distlib-0.3.8 filelock-3.16.1 packaging-24.1 pipenv-2024.1.0 platformdirs-4.3.6 setuptools-75.1.0 virtualenv-20.26.6\n",
      "\u001b[91mWARNING: Running pip as the 'root' user can result in broken permissions and conflicting behaviour with the system package manager. It is recommended to use a virtual environment instead: https://pip.pypa.io/warnings/venv\n",
      "\u001b[0m\u001b[91m\n",
      "[notice] A new release of pip is available: 23.0.1 -> 24.2\n",
      "[notice] To update, run: pip install --upgrade pip\n",
      "\u001b[0mRemoving intermediate container f4def3f10c1d\n",
      " ---> f1ba8473ce84\n",
      "Step 4/5 : RUN pipenv install --system --deploy\n",
      " ---> Running in 483ef14357cc\n",
      "Installing dependencies from Pipfile.lock (073780)...\n",
      "Removing intermediate container 483ef14357cc\n",
      " ---> 04fdc8c558b5\n",
      "Step 5/5 : CMD python3 starter.py\n",
      " ---> Running in c57eaefea10f\n",
      "Removing intermediate container c57eaefea10f\n",
      " ---> 1ac22ec32a59\n",
      "Successfully built 1ac22ec32a59\n",
      "Successfully tagged homework4:latest\n"
     ]
    }
   ],
   "source": [
    "if MAKE_PACKAGE:\n",
    "    print(subprocess.getoutput(\"docker rmi homework4\"))\n",
    "    print(subprocess.getoutput(\"docker build -t homework4 .\"))"
   ]
  },
  {
   "cell_type": "code",
   "execution_count": 13,
   "id": "e268f56e-41ef-44af-8b7a-d52fe1fac502",
   "metadata": {},
   "outputs": [
    {
     "name": "stdout",
     "output_type": "stream",
     "text": [
      "Loading parquet file: https://d37ci6vzurychx.cloudfront.net/trip-data/yellow_tripdata_2023-05.parquet\n",
      "Q6: What's the mean predicted duration?\n",
      "  Answer: 0.19174419265916945\n"
     ]
    }
   ],
   "source": [
    "if MAKE_PACKAGE:\n",
    "    print(subprocess.getoutput('docker run -i --rm -e YEAR=2023 -e MONTH=05 -e Q6=somevalue homework4'))\n",
    "if os.environ.get(\"Q6\", False):\n",
    "    print(f\"Q6: What's the mean predicted duration?\\n  Answer: {y_pred.mean()}\")  # 0.1917"
   ]
  }
 ],
 "metadata": {
  "kernelspec": {
   "display_name": "Python 3 (ipykernel)",
   "language": "python",
   "name": "python3"
  },
  "language_info": {
   "codemirror_mode": {
    "name": "ipython",
    "version": 3
   },
   "file_extension": ".py",
   "mimetype": "text/x-python",
   "name": "python",
   "nbconvert_exporter": "python",
   "pygments_lexer": "ipython3",
   "version": "3.11.6"
  }
 },
 "nbformat": 4,
 "nbformat_minor": 5
}
