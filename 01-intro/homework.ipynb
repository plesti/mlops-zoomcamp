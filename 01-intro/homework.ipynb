{
 "cells": [
  {
   "cell_type": "markdown",
   "id": "917f8cb9",
   "metadata": {},
   "source": [
    "# Quiz answers are in the last cell of this notebook!"
   ]
  },
  {
   "cell_type": "markdown",
   "id": "615a50b9",
   "metadata": {},
   "source": [
    "# Install required packages"
   ]
  },
  {
   "cell_type": "code",
   "execution_count": 1,
   "id": "04a29406",
   "metadata": {},
   "outputs": [
    {
     "name": "stdout",
     "output_type": "stream",
     "text": [
      "Requirement already satisfied: pyarrow in /opt/conda/lib/python3.11/site-packages (17.0.0)\n",
      "Requirement already satisfied: scikit-learn in /opt/conda/lib/python3.11/site-packages (1.5.2)\n",
      "Requirement already satisfied: numpy>=1.16.6 in /opt/conda/lib/python3.11/site-packages (from pyarrow) (1.26.4)\n",
      "Requirement already satisfied: scipy>=1.6.0 in /opt/conda/lib/python3.11/site-packages (from scikit-learn) (1.14.1)\n",
      "Requirement already satisfied: joblib>=1.2.0 in /opt/conda/lib/python3.11/site-packages (from scikit-learn) (1.4.2)\n",
      "Requirement already satisfied: threadpoolctl>=3.1.0 in /opt/conda/lib/python3.11/site-packages (from scikit-learn) (3.5.0)\n"
     ]
    }
   ],
   "source": [
    "!pip install pyarrow scikit-learn"
   ]
  },
  {
   "cell_type": "markdown",
   "id": "811eb040",
   "metadata": {},
   "source": [
    "# Overview\n",
    "The goal of this homework is to train a simple model for predicting the duration of a ride - similar to what we did in this module.\n",
    "\n",
    "We'll use the same NYC taxi dataset, but instead of \"Green Taxi Trip Records\", we'll use \"Yellow Taxi Trip Records\". \n",
    "Download the data for January and February 2023 from [here](https://www.nyc.gov/site/tlc/about/tlc-trip-record-data.page)."
   ]
  },
  {
   "cell_type": "markdown",
   "id": "019dafdf",
   "metadata": {
    "vscode": {
     "languageId": "plaintext"
    }
   },
   "source": [
    "# Solution"
   ]
  },
  {
   "cell_type": "code",
   "execution_count": 2,
   "id": "51bdf2fd",
   "metadata": {},
   "outputs": [
    {
     "name": "stdout",
     "output_type": "stream",
     "text": [
      "Pandas version: 2.2.2\n",
      "scikit-learn version: 1.5.2\n",
      "File ‘yellow_tripdata_2023-01.parquet’ already there; not retrieving.\n",
      "\n",
      "File ‘yellow_tripdata_2023-02.parquet’ already there; not retrieving.\n",
      "\n"
     ]
    }
   ],
   "source": [
    "import pandas as pd\n",
    "import sklearn\n",
    "print(f\"Pandas version: {pd.__version__}\")\n",
    "print(f\"scikit-learn version: {sklearn.__version__}\")\n",
    "\n",
    "# Download data files\n",
    "!wget -nc https://d37ci6vzurychx.cloudfront.net/trip-data/yellow_tripdata_2023-01.parquet\n",
    "!wget -nc https://d37ci6vzurychx.cloudfront.net/trip-data/yellow_tripdata_2023-02.parquet\n",
    "\n",
    "def load_prep_data(filepath):\n",
    "    df_raw = pd.read_parquet(filepath)\n",
    "\n",
    "    # Preserve the raw input data in df variable and work on a clone\n",
    "    df = df_raw.copy()\n",
    "\n",
    "    # Convert pandas.Timedelta to float of minutes\n",
    "    df['duration'] = df.tpep_dropoff_datetime - df.tpep_pickup_datetime\n",
    "\n",
    "    # Convert pandas.Timedelta to float of minutes\n",
    "    df.duration = df.duration.apply(lambda td: td.total_seconds() / 60)\n",
    "\n",
    "    # Dropping outliers\n",
    "    df = df[(df.duration >= 1) & (df.duration <= 60)]\n",
    "    return df_raw, df\n",
    "\n",
    "# Load local parquet files\n",
    "df_raw_jan, df_jan = load_prep_data('./yellow_tripdata_2023-01.parquet')\n",
    "df_raw_feb, df_feb = load_prep_data('./yellow_tripdata_2023-02.parquet')"
   ]
  },
  {
   "cell_type": "code",
   "execution_count": 3,
   "id": "de27e040",
   "metadata": {},
   "outputs": [
    {
     "name": "stdout",
     "output_type": "stream",
     "text": [
      "Performance on train set: 7.649261937621321\n",
      "Performance on validation set: 7.811817646307258\n"
     ]
    }
   ],
   "source": [
    "from sklearn.feature_extraction import DictVectorizer\n",
    "from sklearn.linear_model import LinearRegression\n",
    "from sklearn.metrics import root_mean_squared_error\n",
    "\n",
    "# Apply one-hot encoding on PULocationID and DOLocationID columns.\n",
    "# One hot encoding (using DictVectorizer) only vectorizes string\n",
    "# values. Since pickup and dropoff IDs are categorical values stored \n",
    "# as integers (however 'location ID A' > 'location ID B' has no meaning), we\n",
    "# have to convert them to string for DictVectorizer to vectorize them.\n",
    "# Before one hot encoding:\n",
    "#   [('PULocationID', 'DOLocationID'), \n",
    "#   (161, 141), \n",
    "#   (43, 237)]\n",
    "# After one hot encoding:\n",
    "#   [(\"DOLocationID=141\",\"DOLocationID=237\",\"PULocationID=161\",\"PULocationID=43\"), \n",
    "#   (1.0, 0.0, 1.0, 0.0),\n",
    "#   (0.0, 1.0, 0.0, 1.0)]\n",
    "\n",
    "categorical = ['PULocationID', 'DOLocationID']\n",
    "as_string = df_jan[categorical].astype(str)\n",
    "train_dicts = as_string.to_dict(orient='records')\n",
    "\n",
    "dv = DictVectorizer()\n",
    "X_train = dv.fit_transform(train_dicts)\n",
    "y_train = df_jan['duration'].values\n",
    "\n",
    "# Training a model\n",
    "lr = LinearRegression()\n",
    "lr.fit(X_train, y_train)\n",
    "\n",
    "y_train_pred = lr.predict(X_train)\n",
    "print(f\"Performance on train set: {root_mean_squared_error(y_train, y_train_pred)}\")\n",
    "\n",
    "# Validating\n",
    "as_string = df_feb[categorical].astype(str)\n",
    "train_dicts = as_string.to_dict(orient='records')\n",
    "\n",
    "X_val = dv.transform(train_dicts)\n",
    "y_val = df_feb['duration'].values\n",
    "\n",
    "y_val_pred = lr.predict(X_val)\n",
    "print(f\"Performance on validation set: {root_mean_squared_error(y_val, y_val_pred)}\")"
   ]
  },
  {
   "cell_type": "markdown",
   "id": "98b02320",
   "metadata": {},
   "source": [
    "# Quiz answers"
   ]
  },
  {
   "cell_type": "code",
   "execution_count": 4,
   "id": "b21ee77f",
   "metadata": {},
   "outputs": [
    {
     "name": "stdout",
     "output_type": "stream",
     "text": [
      "Q1. Read the data for January. How many columns are there?\n",
      "  Answer: 19\n",
      "Q2. What's the standard deviation of the trips duration in January?\n",
      "  Answer: 42.59\n",
      "Q3. What fraction of the records left after you dropped the outliers?\n",
      "  Answer: 98%\n",
      "Q4. What's the dimensionality of this matrix (number of columns)?\n",
      "  Answer: 515\n",
      "Q5. What's the RMSE on train?\n",
      "  Answer: 7.649\n",
      "Q5. What's the RMSE on validation?\n",
      "  Answer: 7.812\n"
     ]
    }
   ],
   "source": [
    "# Q1. Downloading the data\n",
    "print(f\"Q1. Read the data for January. How many columns are there?\\n  Answer: {len(df_raw_jan.columns)}\")  # 19\n",
    "\n",
    "# Q2. Computing duration\n",
    "duration = df_raw_jan.tpep_dropoff_datetime - df_raw_jan.tpep_pickup_datetime\n",
    "print(f\"Q2. What's the standard deviation of the trips duration in January?\\n  Answer: {duration.std().total_seconds() / 60:0.2f}\")  # 42.59\n",
    "\n",
    "# Q3. Dropping outliers\n",
    "print(f\"Q3. What fraction of the records left after you dropped the outliers?\\n  Answer: {df_jan.shape[0]/df_raw_jan.shape[0]:0.0%}\")  # 98%\n",
    "\n",
    "# Q4. One-hot encoding\n",
    "print(f\"Q4. What's the dimensionality of this matrix (number of columns)?\\n  Answer: {X_train.shape[1]}\")  # 515\n",
    "\n",
    "# Q5. Training a model\n",
    "print(f\"Q5. What's the RMSE on train?\\n  Answer: {root_mean_squared_error(y_train, y_train_pred):0.3f}\")  # 7.64\n",
    "\n",
    "# Q6. Evaluating the model\n",
    "print(f\"Q6. What's the RMSE on validation?\\n  Answer: {root_mean_squared_error(y_val, y_val_pred):0.3f}\")  # 7.81"
   ]
  }
 ],
 "metadata": {
  "kernelspec": {
   "display_name": "Python 3 (ipykernel)",
   "language": "python",
   "name": "python3"
  },
  "language_info": {
   "codemirror_mode": {
    "name": "ipython",
    "version": 3
   },
   "file_extension": ".py",
   "mimetype": "text/x-python",
   "name": "python",
   "nbconvert_exporter": "python",
   "pygments_lexer": "ipython3",
   "version": "3.11.6"
  }
 },
 "nbformat": 4,
 "nbformat_minor": 5
}
